{
 "cells": [
  {
   "cell_type": "markdown",
   "metadata": {},
   "source": [
    "># **02 <span style=\"color:#fa8423\">HTML</span> - Intermediate**"
   ]
  },
  {
   "cell_type": "markdown",
   "metadata": {},
   "source": [
    "***"
   ]
  },
  {
   "cell_type": "markdown",
   "metadata": {},
   "source": [
    ">## **Unordered List Element**"
   ]
  },
  {
   "cell_type": "code",
   "execution_count": null,
   "metadata": {
    "vscode": {
     "languageId": "html"
    }
   },
   "outputs": [],
   "source": [
    "<ul>Unordered List</ul>\n",
    "\n",
    "\n",
    "<ul>\n",
    "<li>Käse</li>\n",
    "<li>Eier</li>\n",
    "<li>Bacon</li>\n",
    "</ul>"
   ]
  },
  {
   "cell_type": "markdown",
   "metadata": {},
   "source": [
    ">## **Ordered List Element**"
   ]
  },
  {
   "cell_type": "code",
   "execution_count": null,
   "metadata": {
    "vscode": {
     "languageId": "html"
    }
   },
   "outputs": [],
   "source": [
    "<ol>\n",
    "    <li></li>\n",
    "    <li></li>\n",
    "</ol>"
   ]
  },
  {
   "cell_type": "markdown",
   "metadata": {},
   "source": [
    "***"
   ]
  },
  {
   "cell_type": "markdown",
   "metadata": {},
   "source": [
    ">## **<span style=\"color:#fcba03\">Quest 4</span>** List Elements"
   ]
  },
  {
   "cell_type": "markdown",
   "metadata": {},
   "source": [
    "<div class=\"alert alert-block alert-success\">\n",
    "<b>Lösung HTML Quest 4 List Elements</b>\n",
    "</div>"
   ]
  },
  {
   "cell_type": "markdown",
   "metadata": {},
   "source": [
    "***"
   ]
  },
  {
   "cell_type": "markdown",
   "metadata": {},
   "source": [
    ">## **Nested List and Indentation**"
   ]
  },
  {
   "cell_type": "code",
   "execution_count": null,
   "metadata": {
    "vscode": {
     "languageId": "html"
    }
   },
   "outputs": [],
   "source": [
    "<ul>\n",
    "    <li>Wake up and wash teeth</li>\n",
    "    <li>Drink 500ml Wwater</li>\n",
    "    <li>Do a small workout</li>\n",
    "    <li>Make an omlette</li>\n",
    "    <ul>\n",
    "        <li>with eggs</li>\n",
    "        <li>Feta</li>\n",
    "        <li>Sucuk</li>\n",
    "    </ul>\n",
    "    <li>Start Work</li>\n",
    "</ul>\n"
   ]
  },
  {
   "cell_type": "markdown",
   "metadata": {},
   "source": [
    "***"
   ]
  },
  {
   "cell_type": "markdown",
   "metadata": {},
   "source": [
    ">## **<span style=\"color:#fcba03\">Quest 5</span>** Nested Lists"
   ]
  },
  {
   "cell_type": "markdown",
   "metadata": {},
   "source": [
    "<div class=\"alert alert-block alert-success\">\n",
    "<b>Lösung HTML Quest 5 Nested Lists</b>\n",
    "</div>"
   ]
  },
  {
   "cell_type": "markdown",
   "metadata": {},
   "source": [
    "***"
   ]
  },
  {
   "cell_type": "markdown",
   "metadata": {},
   "source": [
    ">## **Anchor Element**"
   ]
  },
  {
   "cell_type": "code",
   "execution_count": null,
   "metadata": {
    "vscode": {
     "languageId": "html"
    }
   },
   "outputs": [],
   "source": [
    "<a href=\"https://www.google.com\">Hi ich bin ein Link</a>\n",
    "\n",
    "<tag attribute=\"value\">Content</tag>\n",
    "<tag attribute=\"value\" anotherattribute=\"value\">Content</tag>\n",
    "<a draggable=\"true\">Nimm mich</a>\n",
    "\n",
    "\n",
    "\n",
    "\n"
   ]
  },
  {
   "cell_type": "markdown",
   "metadata": {},
   "source": [
    "[MDN Anchor Element](https://developer.mozilla.org/en-US/docs/Web/HTML/Element/a?retiredLocale=de)"
   ]
  },
  {
   "cell_type": "markdown",
   "metadata": {},
   "source": [
    "***"
   ]
  },
  {
   "cell_type": "markdown",
   "metadata": {},
   "source": [
    ">## **<span style=\"color:#fcba03\">Quest 6</span>** Anchor Elements and Nested Lists\n",
    "\n",
    "<h1>My top 5 Favourite Websites</h1>\n",
    "<!-- Write your code below -->\n",
    "\n",
    "<ol>\n",
    "    <li><a href=\"https://www.xnxx.com\">XNXX</a></li>\n",
    "    <li><a href=\"https://www.google.de\">Google</a></li>\n",
    "    <li><a href=\"https://www.youtube.de\">Youtube</a></li>\n",
    "    <li><a href=\"https://www.aniworld.io\">Anime</a></li>\n",
    "    <li><a href=\"https://www.yahoo.de\">Yahoo</a></li>\n",
    "</ol>"
   ]
  },
  {
   "cell_type": "code",
   "execution_count": null,
   "metadata": {
    "vscode": {
     "languageId": "html"
    }
   },
   "outputs": [],
   "source": [
    "<h1>My top 5 Favourite Websites</h1>\n",
    "<!-- Write your code below -->\n",
    "\n",
    "<ol>\n",
    "    <li><a href=\"https://www.xnxx.com\">XNXX</a></li>\n",
    "    <li><a href=\"https://www.google.de\">Google</a></li>\n",
    "    <li><a href=\"https://www.youtube.de\">Youtube</a></li>\n",
    "    <li><a href=\"https://www.aniworld.io\">Anime</a></li>\n",
    "    <li><a href=\"https://www.yahoo.de\">Yahoo</a></li>\n",
    "</ol>"
   ]
  },
  {
   "cell_type": "markdown",
   "metadata": {},
   "source": [
    "<div class=\"alert alert-block alert-success\">\n",
    "<b>Lösung HTML Quest 6 Anchor Elemente</b>\n",
    "</div>"
   ]
  },
  {
   "cell_type": "markdown",
   "metadata": {},
   "source": [
    "***"
   ]
  },
  {
   "cell_type": "markdown",
   "metadata": {},
   "source": [
    ">## **Image Element**"
   ]
  },
  {
   "cell_type": "code",
   "execution_count": null,
   "metadata": {
    "vscode": {
     "languageId": "html"
    }
   },
   "outputs": [],
   "source": [
    "<img src=\"url oder Ordnerpfad hier\" alt=\"alternative TextBeschreibung\">\n",
    "\n",
    "<!-- Alternativen Text immer mit geben, da diese vom Screenreader erfasst werden und dieser somit die Bilder beschreiben kann -->"
   ]
  },
  {
   "cell_type": "markdown",
   "metadata": {},
   "source": [
    "***"
   ]
  },
  {
   "cell_type": "markdown",
   "metadata": {},
   "source": [
    ">## **<span style=\"color:#fcba03\">Quest 7</span>** Image Element"
   ]
  },
  {
   "cell_type": "markdown",
   "metadata": {},
   "source": [
    "<div class=\"alert alert-block alert-success\">\n",
    "<b>Lösung HTML Quest 7 Image Elements</b>\n",
    "</div>"
   ]
  },
  {
   "cell_type": "markdown",
   "metadata": {},
   "source": [
    "***"
   ]
  },
  {
   "cell_type": "markdown",
   "metadata": {},
   "source": [
    ">## **<span style=\"color:#d395fc\">Project</span> Birthday Invitation**"
   ]
  },
  {
   "cell_type": "markdown",
   "metadata": {},
   "source": [
    "    Anforderungen:\n",
    "    Ein Bild\n",
    "    eine Liste\n",
    "    und einen Link"
   ]
  }
 ],
 "metadata": {
  "language_info": {
   "name": "python"
  }
 },
 "nbformat": 4,
 "nbformat_minor": 2
}
